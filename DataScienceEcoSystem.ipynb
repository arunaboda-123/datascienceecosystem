{
  "metadata": {
    "kernelspec": {
      "name": "python",
      "display_name": "Python (Pyodide)",
      "language": "python"
    },
    "language_info": {
      "codemirror_mode": {
        "name": "python",
        "version": 3
      },
      "file_extension": ".py",
      "mimetype": "text/x-python",
      "name": "python",
      "nbconvert_exporter": "python",
      "pygments_lexer": "ipython3",
      "version": "3.8"
    }
  },
  "nbformat_minor": 5,
  "nbformat": 4,
  "cells": [
    {
      "id": "83665183-92ef-4ed4-9e2b-f6433ab99214",
      "cell_type": "code",
      "source": "# Exercise 2: Create markdown cell with title of the notebook",
      "metadata": {
        "trusted": true
      },
      "outputs": [],
      "execution_count": 23
    },
    {
      "id": "abe60c4a-24af-40c4-9b28-42dd44575c08",
      "cell_type": "markdown",
      "source": "# Data Science Tools and Ecosystem",
      "metadata": {}
    },
    {
      "id": "dee32041-0e4b-4c1a-a3c3-87d69eb6a4fb",
      "cell_type": "code",
      "source": "# Exercise 3 - Create a markdown cell for an introduction",
      "metadata": {
        "trusted": true
      },
      "outputs": [],
      "execution_count": 24
    },
    {
      "id": "bd2b5a6b-98d8-4a15-b320-cfb2cffc4c5d",
      "cell_type": "markdown",
      "source": "# Introduction\n\nIn this notebook, Data Science Tools and Ecosystem are summarized.\n\n**Objectives:**\n\n- List popular languages for Data Science.\n- Discuss commonly used libraries in Data Science.\n- Explore development environment open-source tools.\n- Introduce arithmetic expressions in Python.\n- Showcase examples of markdown usage in Jupyter Notebooks.",
      "metadata": {}
    },
    {
      "id": "cb3e1f5e-4424-4f3c-be98-902d7bf52f78",
      "cell_type": "code",
      "source": "# Exercise 4 - Create a markdown cell to list data science languages",
      "metadata": {
        "trusted": true
      },
      "outputs": [],
      "execution_count": 25
    },
    {
      "id": "8856e804-9f23-4c0f-a64e-9fad2aa53f48",
      "cell_type": "markdown",
      "source": "# Data Science languages\n\nSome of the popular languages that Data Scientists use are:\n\n1. Python  \n2. R  \n3. SQL  \n4. Julia  \n5. Java",
      "metadata": {}
    },
    {
      "id": "7d7a8749-dd29-4289-a638-38eef7f5c492",
      "cell_type": "code",
      "source": "# Exercise 5 - Create a markdown cell to list data science libraries",
      "metadata": {
        "trusted": true
      },
      "outputs": [],
      "execution_count": 26
    },
    {
      "id": "cc360f42-b887-4819-aca5-8aeb5fd51e48",
      "cell_type": "markdown",
      "source": "# Data Science Libraries\n\nSome of the commonly used libraries used by Data Scientists include:\n\n1. NumPy  \n2. Pandas  \n3. Matplotlib  \n4. Scikit-learn  \n5. TensorFlow  \n6. PyTorch",
      "metadata": {
        "jp-MarkdownHeadingCollapsed": true
      }
    },
    {
      "id": "23beea3b-2c59-445e-916d-7e7ec50c5785",
      "cell_type": "code",
      "source": "# Exercise 6 - Create a markdown cell with a table of Data Science tools",
      "metadata": {
        "trusted": true
      },
      "outputs": [],
      "execution_count": 27
    },
    {
      "id": "bcf8e1fb-d21b-48a8-ae8e-4278a95e31b5",
      "cell_type": "markdown",
      "source": "# Data Science tools\n\n| Data Science Tools |\n|--------------|\n| Jupyter Notebook |\n| RStudio      |\n| Apache Spark |\n| TensorFlow   |\n| Hadoop       |",
      "metadata": {}
    },
    {
      "id": "a3c0e112-f817-48f4-a7b8-e28fad4bc41c",
      "cell_type": "code",
      "source": "# Exercise 7 - Create a markdown cell introducing arithmetic expression examples",
      "metadata": {
        "trusted": true
      },
      "outputs": [],
      "execution_count": 28
    },
    {
      "id": "c939c2af-8b42-4ac0-a9ad-6a1753432d03",
      "cell_type": "markdown",
      "source": "# Introducing Arithmetic Expression Examples\n\n### Below are a few examples of evaluating arithmetic expressions in Python.",
      "metadata": {}
    },
    {
      "id": "a5f60014-b305-40ab-b365-68eb7c63af02",
      "cell_type": "code",
      "source": "# Exercise 8 - Create a code cell to multiply and add numbers",
      "metadata": {
        "trusted": true
      },
      "outputs": [],
      "execution_count": 29
    },
    {
      "id": "0dc7e97b-800c-4617-90e3-1a45146e9bd6",
      "cell_type": "code",
      "source": "# This a simple arithmetic expression to mutiply then add integers\n\n(3*4)+5",
      "metadata": {
        "trusted": true
      },
      "outputs": [
        {
          "execution_count": 30,
          "output_type": "execute_result",
          "data": {
            "text/plain": "17"
          },
          "metadata": {}
        }
      ],
      "execution_count": 30
    },
    {
      "id": "8781dfa1-5c90-4e15-bd44-37877adce0bc",
      "cell_type": "code",
      "source": "# Exercise 9 - Create a code cell to convert minutes to hours",
      "metadata": {
        "trusted": true
      },
      "outputs": [],
      "execution_count": 31
    },
    {
      "id": "c544ba94-93da-452d-8146-45083e07d04f",
      "cell_type": "code",
      "source": "# This will convert 200 minutes to hours by diving by 60.\n\nminutes = 200\nhours = minutes / 60\nhours",
      "metadata": {
        "trusted": true
      },
      "outputs": [
        {
          "execution_count": 32,
          "output_type": "execute_result",
          "data": {
            "text/plain": "3.3333333333333335"
          },
          "metadata": {}
        }
      ],
      "execution_count": 32
    },
    {
      "id": "fab095c8-4d51-4d54-bdf3-eb919d7f4562",
      "cell_type": "code",
      "source": "# Exercise 11 - Create a markdown cell to indicate the Author's name",
      "metadata": {
        "trusted": true
      },
      "outputs": [],
      "execution_count": 33
    },
    {
      "id": "6ad8b57c-7117-412d-8ee1-3c97d6c0f7a7",
      "cell_type": "markdown",
      "source": "## Author\nArun",
      "metadata": {}
    }
  ]
}